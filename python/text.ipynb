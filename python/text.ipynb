{
 "metadata": {
  "language_info": {
   "codemirror_mode": {
    "name": "ipython",
    "version": 3
   },
   "file_extension": ".py",
   "mimetype": "text/x-python",
   "name": "python",
   "nbconvert_exporter": "python",
   "pygments_lexer": "ipython3",
   "version": "3.8.5-final"
  },
  "orig_nbformat": 2,
  "kernelspec": {
   "name": "python385jvsc74a57bd06198743238711b829f08da30ea9d92fd118fd047e3c1df6f45fea5a394540e23",
   "display_name": "Python 3.8.5 64-bit ('tinkie': virtualenv)"
  },
  "metadata": {
   "interpreter": {
    "hash": "63fd5069d213b44bf678585dea6b12cceca9941eaf7f819626cde1f2670de90d"
   }
  }
 },
 "nbformat": 4,
 "nbformat_minor": 2,
 "cells": [
  {
   "cell_type": "code",
   "execution_count": 2,
   "metadata": {},
   "outputs": [
    {
     "output_type": "stream",
     "name": "stdout",
     "text": [
      "C:\\Users\\tinkie\\anaconda3\\python.exe\nC:\\Users\\tinkie\\AppData\\Local\\Microsoft\\WindowsApps\\python.exe\n"
     ]
    }
   ],
   "source": [
    "!where python"
   ]
  },
  {
   "cell_type": "code",
   "execution_count": 3,
   "metadata": {},
   "outputs": [],
   "source": [
    "import pandas as pd\n",
    "import numpy as np"
   ]
  },
  {
   "cell_type": "code",
   "execution_count": 4,
   "metadata": {},
   "outputs": [],
   "source": [
    "def load_data(split_name='train', columns=['text', 'stars']):\n",
    "    try:\n",
    "        print(f\"select [{', '.join(columns)}] columns from the {split_name} split\")\n",
    "        df = pd.read_csv(f'{split_name}.csv')\n",
    "        df = df.loc[:,columns]\n",
    "        print(\"succeed!\")\n",
    "        return df\n",
    "    except:\n",
    "        print(\"Failed, then try to \")\n",
    "        print(f\"select all columns from the {split_name} split\")\n",
    "        df = pd.read_csv(f'{split_name}.csv')\n",
    "        return df"
   ]
  },
  {
   "cell_type": "code",
   "execution_count": 5,
   "metadata": {},
   "outputs": [
    {
     "output_type": "stream",
     "name": "stdout",
     "text": [
      "select [f, u, l, l] columns from the matrix split\n",
      "Failed, then try to \n",
      "select all columns from the matrix split\n",
      "select [movieId, title] columns from the movies split\n",
      "succeed!\n"
     ]
    }
   ],
   "source": [
    "matrix = load_data('matrix', \"full\")\n",
    "subset = matrix.iloc[509:, 0:]\n",
    "movies = load_data('movies', ['movieId', 'title'])"
   ]
  },
  {
   "cell_type": "code",
   "execution_count": null,
   "metadata": {},
   "outputs": [],
   "source": [
    "def cos_sim(userA, userB):\n",
    "    userArt = subset.loc[subset['UserId'] == userA].to_numpy().flatten()[1:]\n",
    "    userBrt = subset.loc[subset['UserId'] == userB].to_numpy().flatten()[1:]\n",
    "    mask = ~(np.isnan(userArt) | np.isnan(userBrt))\n",
    "    if mask.sum() < 4:\n",
    "         return -2\n",
    "    return np.dot(userArt[mask], userBrt[mask]) / (np.sqrt(np.dot(userArt[mask], userArt[mask])) * np.sqrt(np.dot(userBrt[mask], userBrt[mask])))"
   ]
  },
  {
   "cell_type": "code",
   "execution_count": 63,
   "metadata": {},
   "outputs": [],
   "source": [
    "def find_most_sim_user(cur_user):\n",
    "    max_sim = -2\n",
    "    max_user = -1\n",
    "    for user in subset['UserId'].to_numpy():\n",
    "        if user == cur_user:\n",
    "            continue\n",
    "        sim = cos_sim(cur_user, user)\n",
    "        if sim > max_sim:\n",
    "            max_sim = sim\n",
    "            max_user = user\n",
    "    return max_user"
   ]
  },
  {
   "cell_type": "code",
   "execution_count": 64,
   "metadata": {},
   "outputs": [
    {
     "output_type": "execute_result",
     "data": {
      "text/plain": [
       "611"
      ]
     },
     "metadata": {},
     "execution_count": 64
    }
   ],
   "source": [
    "find_most_sim_user(612)"
   ]
  },
  {
   "cell_type": "code",
   "execution_count": 65,
   "metadata": {},
   "outputs": [],
   "source": [
    "def find_new_movie(cur_user , sim_user):\n",
    "    userArt = subset.loc[subset['UserId'] == cur_user].to_numpy().flatten()[1:]\n",
    "    userBrt = subset.loc[subset['UserId'] == sim_user].to_numpy().flatten()[1:]\n",
    "    mask = np.isnan(userArt) & ~(np.isnan(userBrt))\n",
    "    movieIds = np.argwhere(mask).flatten()+1\n",
    "    np.random.shuffle(movieIds)\n",
    "    return movies['title'] [movies['movieId'].isin(movieIds[:10])].to_numpy()"
   ]
  },
  {
   "cell_type": "code",
   "execution_count": null,
   "metadata": {},
   "outputs": [],
   "source": [
    "movieIds = find_new_movie(605,599)\n",
    "\n",
    "movieIds[:10]"
   ]
  },
  {
   "cell_type": "code",
   "execution_count": null,
   "metadata": {},
   "outputs": [],
   "source": [
    "movies = load_data('movies', ['movieId', 'title'])\n",
    "movies.head()"
   ]
  },
  {
   "cell_type": "code",
   "execution_count": 83,
   "metadata": {},
   "outputs": [
    {
     "output_type": "execute_result",
     "data": {
      "text/plain": [
       "array(['Grumpier Old Men (1995)', 'Father of the Bride Part II (1995)',\n",
       "       'Balto (1995)', 'Four Rooms (1995)',\n",
       "       'Ace Ventura: When Nature Calls (1995)', 'Money Train (1995)',\n",
       "       'To Die For (1995)', 'Pocahontas (1995)'], dtype=object)"
      ]
     },
     "metadata": {},
     "execution_count": 83
    }
   ],
   "source": [
    "find_new_movie(612,611)"
   ]
  },
  {
   "cell_type": "code",
   "execution_count": 57,
   "metadata": {},
   "outputs": [],
   "source": [
    "def gen_suggestion(cur_user):\n",
    "    sim_user = find_most_sim_user(cur_user)\n",
    "    return find_new_movie(cur_user, sim_user)"
   ]
  },
  {
   "cell_type": "code",
   "execution_count": 6,
   "metadata": {},
   "outputs": [
    {
     "output_type": "error",
     "ename": "NameError",
     "evalue": "name 'gen_suggestion' is not defined",
     "traceback": [
      "\u001b[1;31m---------------------------------------------------------------------------\u001b[0m",
      "\u001b[1;31mNameError\u001b[0m                                 Traceback (most recent call last)",
      "\u001b[1;32m<ipython-input-6-7ec9b0550fa1>\u001b[0m in \u001b[0;36m<module>\u001b[1;34m\u001b[0m\n\u001b[1;32m----> 1\u001b[1;33m \u001b[0mgen_suggestion\u001b[0m\u001b[1;33m(\u001b[0m\u001b[1;36m612\u001b[0m\u001b[1;33m)\u001b[0m\u001b[1;33m\u001b[0m\u001b[1;33m\u001b[0m\u001b[0m\n\u001b[0m",
      "\u001b[1;31mNameError\u001b[0m: name 'gen_suggestion' is not defined"
     ]
    }
   ],
   "source": [
    "gen_suggestion(612)"
   ]
  },
  {
   "cell_type": "code",
   "execution_count": null,
   "metadata": {},
   "outputs": [],
   "source": []
  }
 ]
}