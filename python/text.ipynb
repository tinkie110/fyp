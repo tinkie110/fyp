{
 "metadata": {
  "language_info": {
   "codemirror_mode": {
    "name": "ipython",
    "version": 3
   },
   "file_extension": ".py",
   "mimetype": "text/x-python",
   "name": "python",
   "nbconvert_exporter": "python",
   "pygments_lexer": "ipython3",
   "version": "3.9.4-final"
  },
  "orig_nbformat": 2,
  "kernelspec": {
   "name": "python394jvsc74a57bd0302cfcd5f3f977fd780b10ca1583746342ac0f994e893b39e989787f7b417f66",
   "display_name": "Python 3.9.4 64-bit"
  },
  "metadata": {
   "interpreter": {
    "hash": "302cfcd5f3f977fd780b10ca1583746342ac0f994e893b39e989787f7b417f66"
   }
  }
 },
 "nbformat": 4,
 "nbformat_minor": 2,
 "cells": [
  {
   "cell_type": "code",
   "execution_count": 8,
   "metadata": {},
   "outputs": [],
   "source": [
    "def load_data(split_name='train', columns=['text', 'stars']):\n",
    "    try:\n",
    "        print(f\"select [{', '.join(columns)}] columns from the {split_name} split\")\n",
    "        df = pd.read_csv(f'{split_name}.csv')\n",
    "        df = df.loc[:,columns]\n",
    "        print(\"succeed!\")\n",
    "        return df\n",
    "    except:\n",
    "        print(\"Failed, then try to \")\n",
    "        print(f\"select all columns from the {split_name} split\")\n",
    "        df = pd.read_csv(f'{split_name}.csv')\n",
    "        return df"
   ]
  },
  {
   "cell_type": "code",
   "execution_count": 45,
   "metadata": {},
   "outputs": [],
   "source": [
    "import pandas as pd\n",
    "import numpy as np"
   ]
  },
  {
   "cell_type": "code",
   "execution_count": 29,
   "metadata": {},
   "outputs": [
    {
     "output_type": "stream",
     "name": "stdout",
     "text": [
      "select [f, u, l, l] columns from the matrix split\n",
      "Failed, then try to \n",
      "select all columns from the matrix split\n"
     ]
    }
   ],
   "source": [
    "matrix = load_data('matrix', \"full\")"
   ]
  },
  {
   "cell_type": "code",
   "execution_count": 87,
   "metadata": {},
   "outputs": [],
   "source": [
    "def cos_sim(userA, userB):\n",
    "    userArt = subset.loc[subset['UserId'] == userA].to_numpy().flatten()[1:]\n",
    "    userBrt = subset.loc[subset['UserId'] == userB].to_numpy().flatten()[1:]\n",
    "    mask = ~(np.isnan(userArt) | np.isnan(userBrt))\n",
    "    if mask.sum() < 4:\n",
    "         return -2\n",
    "    return np.dot(userArt[mask], userBrt[mask]) / (np.sqrt(np.dot(userArt[mask], userArt[mask])) * np.sqrt(np.dot(userBrt[mask], userBrt[mask])))"
   ]
  },
  {
   "cell_type": "code",
   "execution_count": 31,
   "metadata": {},
   "outputs": [],
   "source": [
    "subset = matrix.iloc[509:, 0:100]"
   ]
  },
  {
   "cell_type": "code",
   "execution_count": 95,
   "metadata": {},
   "outputs": [],
   "source": [
    "def find_most_sim_user(cur_user):\n",
    "    max_sim = -2\n",
    "    max_user = -1\n",
    "    for user in subset['UserId'].to_numpy():\n",
    "        if user == cur_user:\n",
    "            continue\n",
    "        sim = cos_sim(cur_user, user)\n",
    "        if sim > max_sim:\n",
    "            max_sim = sim\n",
    "            max_user = user\n",
    "    return max_user"
   ]
  },
  {
   "cell_type": "code",
   "execution_count": 121,
   "metadata": {},
   "outputs": [],
   "source": [
    "def find_new_movie(cur_user, sim_user):\n",
    "    userArt = subset.loc[subset['UserId'] == cur_user].to_numpy().flatten()[1:]\n",
    "    userBrt = subset.loc[subset['UserId'] == sim_user].to_numpy().flatten()[1:]\n",
    "    mask = np.isnan(userArt) & ~(np.isnan(userBrt))\n",
    "    movieIds = np.argwhere(mask).flatten()+1\n",
    "    np.random.shuffle(movieIds)\n",
    "    return movies['title'] [movies['movieId'].isin(movieIds[:10])].to_numpy()"
   ]
  },
  {
   "cell_type": "code",
   "execution_count": 110,
   "metadata": {},
   "outputs": [
    {
     "output_type": "execute_result",
     "data": {
      "text/plain": [
       "array([55, 99, 52, 26, 44, 39, 16, 42, 31, 19], dtype=int64)"
      ]
     },
     "metadata": {},
     "execution_count": 110
    }
   ],
   "source": [
    "movieIds = find_new_movie(605,599)\n",
    "\n",
    "movieIds[:10]"
   ]
  },
  {
   "cell_type": "code",
   "execution_count": 112,
   "metadata": {},
   "outputs": [
    {
     "output_type": "stream",
     "name": "stdout",
     "text": [
      "select [movieId, title] columns from the movies split\nsucceed!\n"
     ]
    },
    {
     "output_type": "execute_result",
     "data": {
      "text/plain": [
       "   movieId                               title\n",
       "0        1                    Toy Story (1995)\n",
       "1        2                      Jumanji (1995)\n",
       "2        3             Grumpier Old Men (1995)\n",
       "3        4            Waiting to Exhale (1995)\n",
       "4        5  Father of the Bride Part II (1995)"
      ],
      "text/html": "<div>\n<style scoped>\n    .dataframe tbody tr th:only-of-type {\n        vertical-align: middle;\n    }\n\n    .dataframe tbody tr th {\n        vertical-align: top;\n    }\n\n    .dataframe thead th {\n        text-align: right;\n    }\n</style>\n<table border=\"1\" class=\"dataframe\">\n  <thead>\n    <tr style=\"text-align: right;\">\n      <th></th>\n      <th>movieId</th>\n      <th>title</th>\n    </tr>\n  </thead>\n  <tbody>\n    <tr>\n      <th>0</th>\n      <td>1</td>\n      <td>Toy Story (1995)</td>\n    </tr>\n    <tr>\n      <th>1</th>\n      <td>2</td>\n      <td>Jumanji (1995)</td>\n    </tr>\n    <tr>\n      <th>2</th>\n      <td>3</td>\n      <td>Grumpier Old Men (1995)</td>\n    </tr>\n    <tr>\n      <th>3</th>\n      <td>4</td>\n      <td>Waiting to Exhale (1995)</td>\n    </tr>\n    <tr>\n      <th>4</th>\n      <td>5</td>\n      <td>Father of the Bride Part II (1995)</td>\n    </tr>\n  </tbody>\n</table>\n</div>"
     },
     "metadata": {},
     "execution_count": 112
    }
   ],
   "source": [
    "movies = load_data('movies', ['movieId', 'title'])\n",
    "movies.head()"
   ]
  },
  {
   "cell_type": "code",
   "execution_count": 128,
   "metadata": {},
   "outputs": [
    {
     "output_type": "execute_result",
     "data": {
      "text/plain": [
       "array(['Grumpier Old Men (1995)', 'American President, The (1995)',\n",
       "       'Dracula: Dead and Loving It (1995)', 'Powder (1995)',\n",
       "       'Othello (1995)', 'Juror, The (1996)',\n",
       "       'White Balloon, The (Badkonake sefid) (1995)',\n",
       "       'Once Upon a Time... When We Were Colored (1995)',\n",
       "       'Dunston Checks In (1996)'], dtype=object)"
      ]
     },
     "metadata": {},
     "execution_count": 128
    }
   ],
   "source": [
    "find_new_movie(605,599)"
   ]
  },
  {
   "cell_type": "code",
   "execution_count": 132,
   "metadata": {},
   "outputs": [],
   "source": [
    "def gen_suggestion(cur_user):\n",
    "    sim_user = find_most_sim_user(cur_user)\n",
    "    return find_new_movie(cur_user, sim_user)"
   ]
  },
  {
   "cell_type": "code",
   "execution_count": 133,
   "metadata": {},
   "outputs": [
    {
     "output_type": "execute_result",
     "data": {
      "text/plain": [
       "array(['American President, The (1995)', 'Four Rooms (1995)',\n",
       "       'Othello (1995)', 'Dangerous Minds (1995)',\n",
       "       'Twelve Monkeys (a.k.a. 12 Monkeys) (1995)', 'Richard III (1995)',\n",
       "       'French Twist (Gazon maudit) (1995)', 'Juror, The (1996)',\n",
       "       \"Things to Do in Denver When You're Dead (1995)\",\n",
       "       'Nick of Time (1995)'], dtype=object)"
      ]
     },
     "metadata": {},
     "execution_count": 133
    }
   ],
   "source": [
    "gen_suggestion(605)"
   ]
  },
  {
   "cell_type": "code",
   "execution_count": null,
   "metadata": {},
   "outputs": [],
   "source": []
  }
 ]
}